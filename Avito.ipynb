{
 "cells": [
  {
   "cell_type": "code",
   "execution_count": 1,
   "metadata": {
    "scrolled": true
   },
   "outputs": [
    {
     "name": "stdout",
     "output_type": "stream",
     "text": [
      "Populating the interactive namespace from numpy and matplotlib\n"
     ]
    },
    {
     "name": "stderr",
     "output_type": "stream",
     "text": [
      "Using Theano backend.\n"
     ]
    }
   ],
   "source": [
    "%pylab inline\n",
    "import matplotlib.pyplot as plt\n",
    "\n",
    "import numpy as np\n",
    "import gensim\n",
    "import pandas as pd\n",
    "\n",
    "from sklearn.feature_extraction.text import CountVectorizer, HashingVectorizer\n",
    "from nltk.corpus import stopwords\n",
    "\n",
    "import scipy.sparse as sp\n",
    "\n",
    "from sklearn.naive_bayes import MultinomialNB\n",
    "\n",
    "import sklearn.metrics\n",
    "\n",
    "import pymorphy2 as pm2\n",
    "\n",
    "from hyperopt import STATUS_OK, Trials, fmin, hp, tpe, space_eval\n",
    "from hyperopt.pyll import scope\n",
    "import lightgbm as lgb\n",
    "\n",
    "from sklearn.model_selection import train_test_split\n",
    "from sklearn.metrics import accuracy_score"
   ]
  },
  {
   "cell_type": "markdown",
   "metadata": {},
   "source": [
    "#### Загрузим данные"
   ]
  },
  {
   "cell_type": "code",
   "execution_count": 2,
   "metadata": {
    "collapsed": true
   },
   "outputs": [],
   "source": [
    "category_raw = pd.read_csv('data/category.csv', sep=',', quoting=0, encoding = 'utf-8')\n",
    "test_raw = pd.read_csv('data/test.csv', sep=',', quoting=0, encoding = 'utf-8')\n",
    "train_raw = pd.read_csv('data/train.csv', sep=',', quoting=0, encoding = 'utf-8')"
   ]
  },
  {
   "cell_type": "code",
   "execution_count": 3,
   "metadata": {
    "collapsed": true
   },
   "outputs": [],
   "source": [
    "test = test_raw.copy()\n",
    "test['title'] = test_raw['title'].str.lower()\n",
    "test['description'] = test_raw['description'].str.lower()\n",
    "\n",
    "train = train_raw.copy()\n",
    "train['title'] = train_raw['title'].str.lower()\n",
    "train['description'] = train_raw['description'].str.lower()"
   ]
  },
  {
   "cell_type": "markdown",
   "metadata": {},
   "source": [
    "---"
   ]
  },
  {
   "cell_type": "markdown",
   "metadata": {},
   "source": [
    "#### Уберем все лишние символы, кроме букв рус, анг и цифр. Разделим русские и английские слова."
   ]
  },
  {
   "cell_type": "code",
   "execution_count": 4,
   "metadata": {
    "collapsed": true
   },
   "outputs": [],
   "source": [
    "train['title'] = train['title'].str.replace(u'[^a-zа-я0-9]',' ')\n",
    "train['description'] = train['description'].str.replace(u'[^a-zа-я0-9]',' ')\n",
    "\n",
    "test['title'] = test['title'].str.replace(u'[^a-zа-я0-9]',' ')\n",
    "test['description'] = test['description'].str.replace(u'[^a-zа-я0-9]',' ')"
   ]
  },
  {
   "cell_type": "code",
   "execution_count": 5,
   "metadata": {
    "collapsed": true
   },
   "outputs": [],
   "source": [
    "test['title eng'] = test['title'].str.extract(u'([a-z]+[0-9a-z ]*)', expand=False)\n",
    "test['title eng all'] = test['title eng'].str.replace(u'[ ]','')\n",
    "test['title ru'] = test['title'].str.replace(u'[^а-я ]', '')\n",
    "\n",
    "train['title eng'] = train['title'].str.extract(u'([a-z]+[0-9a-z ]*)', expand=False)\n",
    "train['title eng all'] = train['title eng'].str.replace(u'[ ]','')\n",
    "train['title ru'] = train['title'].str.replace(u'[^а-я ]', '')"
   ]
  },
  {
   "cell_type": "code",
   "execution_count": 6,
   "metadata": {
    "collapsed": true
   },
   "outputs": [],
   "source": [
    "test['description eng'] = test['description'].str.extract(u'([a-z]+[0-9a-z ]*)', expand=False)\n",
    "test['description eng all'] = test['description eng'].str.replace(u'[ ]','')\n",
    "test['description ru'] = test['description'].str.replace(u'[^а-я ]', '')\n",
    "\n",
    "train['description eng'] = train['description'].str.extract(u'([a-z]+[0-9a-z ]*)', expand=False)\n",
    "train['description eng all'] = train['description eng'].str.replace(u'[ ]','')\n",
    "train['description ru'] = train['description'].str.replace(u'[^а-я ]', '')"
   ]
  },
  {
   "cell_type": "markdown",
   "metadata": {},
   "source": [
    "---"
   ]
  },
  {
   "cell_type": "markdown",
   "metadata": {},
   "source": [
    "#### Нормализуем русские слова"
   ]
  },
  {
   "cell_type": "code",
   "execution_count": 7,
   "metadata": {
    "collapsed": true
   },
   "outputs": [],
   "source": [
    "morph = pm2.MorphAnalyzer()\n",
    "\n",
    "def f_tokenizer(string, fmt=['NOUN']):\n",
    "    result = ''\n",
    "    for wrd in string.split(' '):\n",
    "        wrd_prs = morph.parse(wrd)[0]\n",
    "        # 'NUMR','PREP','CONJ','PRCL','INTJ','ADJF'\n",
    "        if wrd_prs.tag.POS in fmt:\n",
    "            result = result + ' ' + wrd_prs.normal_form\n",
    "    return result"
   ]
  },
  {
   "cell_type": "code",
   "execution_count": null,
   "metadata": {
    "collapsed": true
   },
   "outputs": [],
   "source": [
    "test['title ru tok'] = test['title ru'].apply(lambda ttl: f_tokenizer(ttl, fmt=['NOUN', 'ADJF', 'PRTF']))\n",
    "train['title ru tok'] = train['title ru'].apply(lambda ttl: f_tokenizer(ttl, fmt=['NOUN', 'ADJF', 'PRTF']))\n",
    "\n",
    "test['description ru tok'] = test['description ru'].apply(lambda ttl: f_tokenizer(ttl, fmt=['NOUN']))\n",
    "train['description ru tok'] = train['description ru'].apply(lambda ttl: f_tokenizer(ttl, fmt=['NOUN']))"
   ]
  },
  {
   "cell_type": "markdown",
   "metadata": {},
   "source": [
    "---"
   ]
  },
  {
   "cell_type": "markdown",
   "metadata": {},
   "source": [
    "#### Воспользуемся тестовой выгрузкой вместо стоп слов"
   ]
  },
  {
   "cell_type": "code",
   "execution_count": 9,
   "metadata": {},
   "outputs": [
    {
     "name": "stdout",
     "output_type": "stream",
     "text": [
      "29026 41189 19672\n"
     ]
    }
   ],
   "source": [
    "title_vectorizer_test = CountVectorizer()\n",
    "title_vector_test = title_vectorizer_test.fit_transform(test['title ru tok'])\n",
    "\n",
    "title_vectorizer_train = CountVectorizer()\n",
    "title_vector_train = title_vectorizer_train.fit_transform(train['title ru tok'])\n",
    "\n",
    "title_words = set(title_vectorizer_test.get_feature_names()).intersection(\n",
    "    set(title_vectorizer_train.get_feature_names()))\n",
    "\n",
    "print(len(title_vectorizer_test.get_feature_names()), \n",
    "      len(title_vectorizer_train.get_feature_names()), \n",
    "      len(title_words))"
   ]
  },
  {
   "cell_type": "code",
   "execution_count": 10,
   "metadata": {
    "collapsed": true
   },
   "outputs": [],
   "source": [
    "title_vectorizer = CountVectorizer(vocabulary=title_words)\n",
    "\n",
    "title_vector_train = title_vectorizer.transform(train['title ru tok'])\n",
    "title_vector_test = title_vectorizer.transform(test['title ru tok'])"
   ]
  },
  {
   "cell_type": "code",
   "execution_count": 11,
   "metadata": {},
   "outputs": [
    {
     "name": "stdout",
     "output_type": "stream",
     "text": [
      "59128 84436 39742\n"
     ]
    }
   ],
   "source": [
    "desc_vectorizer_test = CountVectorizer()\n",
    "desc_vector_test = desc_vectorizer_test.fit_transform(test['description ru tok'])\n",
    "\n",
    "desc_vectorizer_train = CountVectorizer()\n",
    "desc_vector_train = desc_vectorizer_train.fit_transform(train['description ru tok'])\n",
    "\n",
    "desc_words = set(desc_vectorizer_test.get_feature_names()).intersection(\n",
    "    set(desc_vectorizer_train.get_feature_names()))\n",
    "\n",
    "print(len(desc_vectorizer_test.get_feature_names()), \n",
    "      len(desc_vectorizer_train.get_feature_names()), \n",
    "      len(desc_words))"
   ]
  },
  {
   "cell_type": "code",
   "execution_count": 12,
   "metadata": {
    "collapsed": true
   },
   "outputs": [],
   "source": [
    "desc_vectorizer = CountVectorizer(vocabulary=desc_words)\n",
    "\n",
    "desc_vector_test = desc_vectorizer.transform(test['description ru tok'])\n",
    "desc_vector_train = desc_vectorizer.transform(train['description ru tok'])"
   ]
  },
  {
   "cell_type": "code",
   "execution_count": 13,
   "metadata": {},
   "outputs": [
    {
     "name": "stdout",
     "output_type": "stream",
     "text": [
      "41805 64942 23433\n"
     ]
    }
   ],
   "source": [
    "title_vectorizer_test_eng = CountVectorizer()\n",
    "title_vector_test_eng = title_vectorizer_test_eng.fit_transform(test['title eng'].fillna(''))\n",
    "\n",
    "title_vectorizer_train_eng = CountVectorizer()\n",
    "title_vector_train_eng = title_vectorizer_train_eng.fit_transform(train['title eng'].fillna(''))\n",
    "\n",
    "title_words_eng = set(title_vectorizer_test_eng.get_feature_names()).intersection(\n",
    "    set(title_vectorizer_train_eng.get_feature_names()))\n",
    "\n",
    "print(len(title_vectorizer_test_eng.get_feature_names()), \n",
    "      len(title_vectorizer_train_eng.get_feature_names()), \n",
    "      len(title_words_eng))"
   ]
  },
  {
   "cell_type": "code",
   "execution_count": 14,
   "metadata": {
    "collapsed": true
   },
   "outputs": [],
   "source": [
    "title_vectorizer_eng = CountVectorizer(vocabulary=title_words_eng)\n",
    "\n",
    "title_vector_train_eng = title_vectorizer_eng.transform(train['title eng'].fillna(''))\n",
    "title_vector_test_eng = title_vectorizer_eng.transform(test['title eng'].fillna(''))"
   ]
  },
  {
   "cell_type": "code",
   "execution_count": 15,
   "metadata": {
    "scrolled": true
   },
   "outputs": [
    {
     "name": "stdout",
     "output_type": "stream",
     "text": [
      "42441 66110 23747\n",
      "CPU times: user 3.85 s, sys: 11 ms, total: 3.86 s\n",
      "Wall time: 3.86 s\n"
     ]
    }
   ],
   "source": [
    "%%time\n",
    "desc_vectorizer_test_eng = CountVectorizer()\n",
    "desc_vector_test_eng = desc_vectorizer_test_eng.fit_transform(test['description eng'].fillna(''))\n",
    "\n",
    "desc_vectorizer_train_eng = CountVectorizer()\n",
    "desc_vector_train_eng = desc_vectorizer_train_eng.fit_transform(train['description eng'].fillna(''))\n",
    "\n",
    "desc_words_eng = set(desc_vectorizer_test_eng.get_feature_names()).intersection(\n",
    "    set(desc_vectorizer_train_eng.get_feature_names()))\n",
    "\n",
    "print(len(desc_vectorizer_test_eng.get_feature_names()), \n",
    "      len(desc_vectorizer_train_eng.get_feature_names()), \n",
    "      len(desc_words_eng))"
   ]
  },
  {
   "cell_type": "code",
   "execution_count": 16,
   "metadata": {
    "collapsed": true
   },
   "outputs": [],
   "source": [
    "desc_vectorizer_eng = CountVectorizer(vocabulary=desc_words_eng)\n",
    "\n",
    "desc_vector_test_eng = desc_vectorizer_eng.transform(test['description eng'].fillna(''))\n",
    "desc_vector_train_eng = desc_vectorizer_eng.transform(train['description eng'].fillna(''))"
   ]
  },
  {
   "cell_type": "markdown",
   "metadata": {},
   "source": [
    "#### Объединим нормализованные данные в единый мешок слов "
   ]
  },
  {
   "cell_type": "code",
   "execution_count": 17,
   "metadata": {
    "collapsed": true
   },
   "outputs": [],
   "source": [
    "train_hs = sp.hstack([np.array(train['price'])[:,None], title_vector_train, desc_vector_train, \n",
    "                      title_vector_train_eng, desc_vector_train_eng])\n",
    "test_hs = sp.hstack([np.array(test['price'])[:,None], title_vector_test, desc_vector_test\n",
    "                    , title_vector_test_eng, desc_vector_test_eng])"
   ]
  },
  {
   "cell_type": "code",
   "execution_count": 18,
   "metadata": {
    "scrolled": true
   },
   "outputs": [
    {
     "data": {
      "text/plain": [
       "<489517x106595 sparse matrix of type '<class 'numpy.float64'>'\n",
       "\twith 8608287 stored elements in COOrdinate format>"
      ]
     },
     "execution_count": 18,
     "metadata": {},
     "output_type": "execute_result"
    }
   ],
   "source": [
    "train_hs"
   ]
  },
  {
   "cell_type": "markdown",
   "metadata": {},
   "source": [
    "---\n",
    "\n",
    "---"
   ]
  },
  {
   "cell_type": "markdown",
   "metadata": {},
   "source": [
    "#### Разделим данные на тестовую и обучающую выборки"
   ]
  },
  {
   "cell_type": "code",
   "execution_count": 19,
   "metadata": {
    "collapsed": true
   },
   "outputs": [],
   "source": [
    "x_train, x_test, y_train, y_test = train_test_split(train_hs, train.category_id, \n",
    "                                                    test_size=0.2, stratify=train.category_id)"
   ]
  },
  {
   "cell_type": "markdown",
   "metadata": {},
   "source": [
    "#### Обучим наивный байесовский классификатор для сравнения"
   ]
  },
  {
   "cell_type": "code",
   "execution_count": 20,
   "metadata": {
    "collapsed": true
   },
   "outputs": [],
   "source": [
    "clf = MultinomialNB().fit(x_train, y_train)"
   ]
  },
  {
   "cell_type": "code",
   "execution_count": 21,
   "metadata": {
    "collapsed": true
   },
   "outputs": [],
   "source": [
    "predictednb = clf.predict(x_test)"
   ]
  },
  {
   "cell_type": "code",
   "execution_count": 22,
   "metadata": {
    "scrolled": true
   },
   "outputs": [
    {
     "name": "stdout",
     "output_type": "stream",
     "text": [
      "                                                                     precision    recall  f1-score   support\n",
      "\n",
      "                                Бытовая электроника|Телефоны|iPhone       0.45      0.93      0.61      1772\n",
      "                                       Бытовая электроника|Ноутбуки       0.90      0.85      0.88      1604\n",
      "                               Бытовая электроника|Телефоны|Samsung       0.84      0.70      0.76      1977\n",
      "          Бытовая электроника|Планшеты и электронные книги|Планшеты       0.88      0.66      0.75      1721\n",
      "  Бытовая электроника|Игры, приставки и программы|Игровые приставки       0.80      0.88      0.84      1723\n",
      "           Бытовая электроника|Аудио и видео|Телевизоры и проекторы       0.87      0.87      0.87      1648\n",
      "                          Бытовая электроника|Телефоны|Другие марки       0.62      0.55      0.58      1739\n",
      "                          Бытовая электроника|Настольные компьютеры       0.81      0.93      0.87      1718\n",
      " Бытовая электроника|Игры, приставки и программы|Игры для приставок       0.93      0.76      0.84      1740\n",
      "             Бытовая электроника|Телефоны|Аксессуары|Чехлы и плёнки       0.36      0.81      0.50      1607\n",
      "                                 Бытовая электроника|Телефоны|Nokia       0.87      0.68      0.76      1754\n",
      "                                  Бытовая электроника|Телефоны|Sony       0.88      0.77      0.82      1935\n",
      "     Бытовая электроника|Аудио и видео|Акустика, колонки, сабвуферы       0.93      0.75      0.83      1883\n",
      "                 Бытовая электроника|Товары для компьютера|Мониторы       0.94      0.74      0.83      1802\n",
      "     Бытовая электроника|Товары для компьютера|Сетевое оборудование       0.92      0.83      0.87      1646\n",
      "              Для дома и дачи|Ремонт и строительство|Стройматериалы       0.18      0.35      0.24      1887\n",
      "         Для дома и дачи|Мебель и интерьер|Кровати, диваны и кресла       0.67      0.81      0.73      1681\n",
      "                 Для дома и дачи|Ремонт и строительство|Инструменты       0.87      0.66      0.75      1843\n",
      "                   Для дома и дачи|Мебель и интерьер|Шкафы и комоды       0.72      0.87      0.79      1986\n",
      "    Для дома и дачи|Мебель и интерьер|Предметы интерьера, искусство       0.48      0.42      0.45      1781\n",
      "                   Для дома и дачи|Посуда и товары для кухни|Посуда       0.74      0.76      0.75      1828\n",
      "          Для дома и дачи|Ремонт и строительство|Сантехника и сауна       0.87      0.74      0.80      1953\n",
      "                   Для дома и дачи|Мебель и интерьер|Столы и стулья       0.87      0.81      0.84      1931\n",
      "                           Для дома и дачи|Мебель и интерьер|Другое       0.48      0.21      0.29      1961\n",
      "                                           Для дома и дачи|Растения       0.75      0.82      0.78      1794\n",
      "                       Для дома и дачи|Ремонт и строительство|Двери       0.88      0.83      0.85      1621\n",
      "         Для дома и дачи|Бытовая техника|Для дома|Стиральные машины       0.97      0.86      0.91      1790\n",
      "                 Для дома и дачи|Мебель и интерьер|Текстиль и ковры       0.76      0.80      0.78      1946\n",
      "                        Для дома и дачи|Мебель и интерьер|Освещение       0.86      0.81      0.83      1915\n",
      "  Для дома и дачи|Бытовая техника|Для кухни|Мелкая кухонная техника       0.93      0.82      0.87      1981\n",
      "                     Личные вещи|Товары для детей и игрушки|Игрушки       0.60      0.68      0.64      1645\n",
      "                   Личные вещи|Одежда, обувь, аксессуары|Аксессуары       0.67      0.59      0.63      1699\n",
      "             Личные вещи|Товары для детей и игрушки|Детские коляски       0.85      0.80      0.82      1890\n",
      "Личные вещи|Одежда, обувь, аксессуары|Женская одежда|Верхняя одежда       0.63      0.82      0.71      1647\n",
      "              Личные вещи|Товары для детей и игрушки|Детская мебель       0.60      0.62      0.61      1783\n",
      " Личные вещи|Одежда, обувь, аксессуары|Женская одежда|Платья и юбки       0.83      0.82      0.83      1932\n",
      "                                  Личные вещи|Часы и украшения|Часы       0.84      0.75      0.79      1846\n",
      "                Личные вещи|Красота и здоровье|Приборы и аксессуары       0.83      0.68      0.75      1977\n",
      "        Личные вещи|Одежда, обувь, аксессуары|Женская одежда|Другое       0.65      0.49      0.56      1703\n",
      "         Личные вещи|Одежда, обувь, аксессуары|Женская одежда|Обувь       0.86      0.80      0.83      1960\n",
      "                     Личные вещи|Часы и украшения|Ювелирные изделия       0.64      0.88      0.74      1602\n",
      "        Личные вещи|Товары для детей и игрушки|Товары для кормления       0.77      0.66      0.71      1776\n",
      "                     Хобби и отдых|Спорт и отдых|Зимние виды спорта       0.79      0.79      0.79      1852\n",
      "                                Хобби и отдых|Книги и журналы|Книги       0.65      0.71      0.68      1813\n",
      "                            Хобби и отдых|Коллекционирование|Другое       0.49      0.34      0.40      1934\n",
      "                            Хобби и отдых|Коллекционирование|Монеты       0.93      0.71      0.81      1951\n",
      "                     Хобби и отдых|Спорт и отдых|Фитнес и тренажёры       0.87      0.77      0.82      1669\n",
      "                                 Хобби и отдых|Спорт и отдых|Другое       0.55      0.34      0.42      1928\n",
      "                     Хобби и отдых|Билеты и путешествия|Путешествия       0.96      0.94      0.95      1764\n",
      "                                      Хобби и отдых|Охота и рыбалка       0.85      0.64      0.73      2000\n",
      "     Хобби и отдых|Музыкальные инструменты|Гитары и другие струнные       0.95      0.87      0.91      1876\n",
      "                   Хобби и отдых|Книги и журналы|Учебная литература       0.59      0.78      0.67      1717\n",
      "       Хобби и отдых|Музыкальные инструменты|Для студии и концертов       0.58      0.86      0.69      1853\n",
      "                     Хобби и отдых|Велосипеды|Запчасти и аксессуары       0.84      0.83      0.84      1920\n",
      "\n",
      "                                                        avg / total       0.76      0.73      0.73     97904\n",
      "\n"
     ]
    }
   ],
   "source": [
    "print(sklearn.metrics.classification_report(y_test, predictednb, target_names=category_raw['name']))"
   ]
  },
  {
   "cell_type": "code",
   "execution_count": 23,
   "metadata": {},
   "outputs": [
    {
     "data": {
      "text/plain": [
       "0.72807035463310998"
      ]
     },
     "execution_count": 23,
     "metadata": {},
     "output_type": "execute_result"
    }
   ],
   "source": [
    "accuracy_score(y_test, predictednb)"
   ]
  },
  {
   "cell_type": "markdown",
   "metadata": {},
   "source": [
    "---"
   ]
  },
  {
   "cell_type": "markdown",
   "metadata": {},
   "source": [
    "#### Обучим LightGbm "
   ]
  },
  {
   "cell_type": "code",
   "execution_count": 24,
   "metadata": {
    "collapsed": true
   },
   "outputs": [],
   "source": [
    "dtrain = lgb.Dataset(x_train, y_train, max_bin = 2)\n",
    "dtest = lgb.Dataset(x_test, y_test, max_bin = 2)"
   ]
  },
  {
   "cell_type": "code",
   "execution_count": 25,
   "metadata": {
    "collapsed": true
   },
   "outputs": [],
   "source": [
    "best_params = {\n",
    "    'application' : 'multiclass',\n",
    "    'boosting_type' : 'gbdt',\n",
    "    'metric' : 'multi_error',\n",
    "    'num_class' : 54,\n",
    "    'num_threads' : 7,\n",
    "    \n",
    "    'learning_rate' : 0.1,\n",
    "    'num_leaves' : 211,\n",
    "\n",
    "    'min_data_in_leaf': 4,\n",
    "    \n",
    "    'bagging_fraction':1,\n",
    "    'feature_fraction':0.2,\n",
    "     }"
   ]
  },
  {
   "cell_type": "code",
   "execution_count": null,
   "metadata": {
    "collapsed": true
   },
   "outputs": [],
   "source": [
    "model = lgb.train(best_params, dtrain, num_boost_round=153, verbose_eval=None)\n",
    "predicted2a = model.predict(x_test)"
   ]
  },
  {
   "cell_type": "code",
   "execution_count": 38,
   "metadata": {
    "scrolled": true
   },
   "outputs": [
    {
     "name": "stdout",
     "output_type": "stream",
     "text": [
      "                                                                     precision    recall  f1-score   support\n",
      "\n",
      "                                Бытовая электроника|Телефоны|iPhone       0.94      0.94      0.94      1772\n",
      "                                       Бытовая электроника|Ноутбуки       0.96      0.96      0.96      1604\n",
      "                               Бытовая электроника|Телефоны|Samsung       0.91      0.91      0.91      1977\n",
      "          Бытовая электроника|Планшеты и электронные книги|Планшеты       0.96      0.93      0.95      1721\n",
      "  Бытовая электроника|Игры, приставки и программы|Игровые приставки       0.94      0.93      0.94      1723\n",
      "           Бытовая электроника|Аудио и видео|Телевизоры и проекторы       0.95      0.96      0.96      1648\n",
      "                          Бытовая электроника|Телефоны|Другие марки       0.82      0.85      0.84      1739\n",
      "                          Бытовая электроника|Настольные компьютеры       0.97      0.96      0.97      1718\n",
      " Бытовая электроника|Игры, приставки и программы|Игры для приставок       0.93      0.94      0.93      1740\n",
      "             Бытовая электроника|Телефоны|Аксессуары|Чехлы и плёнки       0.87      0.90      0.89      1607\n",
      "                                 Бытовая электроника|Телефоны|Nokia       0.93      0.93      0.93      1754\n",
      "                                  Бытовая электроника|Телефоны|Sony       0.97      0.95      0.96      1935\n",
      "     Бытовая электроника|Аудио и видео|Акустика, колонки, сабвуферы       0.92      0.92      0.92      1883\n",
      "                 Бытовая электроника|Товары для компьютера|Мониторы       0.97      0.96      0.97      1802\n",
      "     Бытовая электроника|Товары для компьютера|Сетевое оборудование       0.96      0.95      0.95      1646\n",
      "              Для дома и дачи|Ремонт и строительство|Стройматериалы       0.86      0.86      0.86      1887\n",
      "         Для дома и дачи|Мебель и интерьер|Кровати, диваны и кресла       0.84      0.85      0.84      1681\n",
      "                 Для дома и дачи|Ремонт и строительство|Инструменты       0.89      0.88      0.88      1843\n",
      "                   Для дома и дачи|Мебель и интерьер|Шкафы и комоды       0.81      0.88      0.84      1986\n",
      "    Для дома и дачи|Мебель и интерьер|Предметы интерьера, искусство       0.64      0.61      0.62      1781\n",
      "                   Для дома и дачи|Посуда и товары для кухни|Посуда       0.83      0.88      0.86      1828\n",
      "          Для дома и дачи|Ремонт и строительство|Сантехника и сауна       0.89      0.92      0.91      1953\n",
      "                   Для дома и дачи|Мебель и интерьер|Столы и стулья       0.90      0.93      0.92      1931\n",
      "                           Для дома и дачи|Мебель и интерьер|Другое       0.52      0.45      0.48      1961\n",
      "                                           Для дома и дачи|Растения       0.96      0.95      0.95      1794\n",
      "                       Для дома и дачи|Ремонт и строительство|Двери       0.96      0.96      0.96      1621\n",
      "         Для дома и дачи|Бытовая техника|Для дома|Стиральные машины       0.98      0.98      0.98      1790\n",
      "                 Для дома и дачи|Мебель и интерьер|Текстиль и ковры       0.89      0.92      0.91      1946\n",
      "                        Для дома и дачи|Мебель и интерьер|Освещение       0.93      0.96      0.95      1915\n",
      "  Для дома и дачи|Бытовая техника|Для кухни|Мелкая кухонная техника       0.97      0.96      0.96      1981\n",
      "                     Личные вещи|Товары для детей и игрушки|Игрушки       0.81      0.80      0.80      1645\n",
      "                   Личные вещи|Одежда, обувь, аксессуары|Аксессуары       0.73      0.72      0.72      1699\n",
      "             Личные вещи|Товары для детей и игрушки|Детские коляски       0.92      0.91      0.92      1890\n",
      "Личные вещи|Одежда, обувь, аксессуары|Женская одежда|Верхняя одежда       0.88      0.93      0.90      1647\n",
      "              Личные вещи|Товары для детей и игрушки|Детская мебель       0.77      0.72      0.74      1783\n",
      " Личные вещи|Одежда, обувь, аксессуары|Женская одежда|Платья и юбки       0.97      0.96      0.96      1932\n",
      "                                  Личные вещи|Часы и украшения|Часы       0.94      0.96      0.95      1846\n",
      "                Личные вещи|Красота и здоровье|Приборы и аксессуары       0.90      0.88      0.89      1977\n",
      "        Личные вещи|Одежда, обувь, аксессуары|Женская одежда|Другое       0.69      0.70      0.70      1703\n",
      "         Личные вещи|Одежда, обувь, аксессуары|Женская одежда|Обувь       0.92      0.97      0.94      1960\n",
      "                     Личные вещи|Часы и украшения|Ювелирные изделия       0.95      0.96      0.95      1602\n",
      "        Личные вещи|Товары для детей и игрушки|Товары для кормления       0.87      0.89      0.88      1776\n",
      "                     Хобби и отдых|Спорт и отдых|Зимние виды спорта       0.88      0.93      0.91      1852\n",
      "                                Хобби и отдых|Книги и журналы|Книги       0.83      0.85      0.84      1813\n",
      "                            Хобби и отдых|Коллекционирование|Другое       0.59      0.63      0.61      1934\n",
      "                            Хобби и отдых|Коллекционирование|Монеты       0.97      0.97      0.97      1951\n",
      "                     Хобби и отдых|Спорт и отдых|Фитнес и тренажёры       0.90      0.91      0.91      1669\n",
      "                                 Хобби и отдых|Спорт и отдых|Другое       0.72      0.62      0.67      1928\n",
      "                     Хобби и отдых|Билеты и путешествия|Путешествия       0.99      0.99      0.99      1764\n",
      "                                      Хобби и отдых|Охота и рыбалка       0.87      0.85      0.86      2000\n",
      "     Хобби и отдых|Музыкальные инструменты|Гитары и другие струнные       0.96      0.92      0.94      1876\n",
      "                   Хобби и отдых|Книги и журналы|Учебная литература       0.88      0.83      0.86      1717\n",
      "       Хобби и отдых|Музыкальные инструменты|Для студии и концертов       0.87      0.89      0.88      1853\n",
      "                     Хобби и отдых|Велосипеды|Запчасти и аксессуары       0.96      0.95      0.96      1920\n",
      "\n",
      "                                                        avg / total       0.88      0.88      0.88     97904\n",
      "\n"
     ]
    }
   ],
   "source": [
    "print(sklearn.metrics.classification_report(y_test, predicted2a.argmax(axis=1), target_names=category_raw['name']))"
   ]
  },
  {
   "cell_type": "code",
   "execution_count": 39,
   "metadata": {},
   "outputs": [
    {
     "data": {
      "text/plain": [
       "0.88292613172086942"
      ]
     },
     "execution_count": 39,
     "metadata": {},
     "output_type": "execute_result"
    }
   ],
   "source": [
    "accuracy_score(y_test, predicted2a.argmax(axis=1))"
   ]
  },
  {
   "cell_type": "markdown",
   "metadata": {},
   "source": [
    "---"
   ]
  },
  {
   "cell_type": "markdown",
   "metadata": {},
   "source": [
    "#### Сделаем предсказание на тестовых данных, обучившись на всей выборке"
   ]
  },
  {
   "cell_type": "code",
   "execution_count": null,
   "metadata": {
    "collapsed": true
   },
   "outputs": [],
   "source": [
    "dtrain_hs = lgb.Dataset(train_hs, train.category_id, max_bin = 2)"
   ]
  },
  {
   "cell_type": "code",
   "execution_count": null,
   "metadata": {
    "collapsed": true
   },
   "outputs": [],
   "source": [
    "model = lgb.train(best_params, dtrain_hs, num_boost_round=153, verbose_eval=None)\n",
    "predicted_hs = model.predict(test_hs)"
   ]
  },
  {
   "cell_type": "code",
   "execution_count": null,
   "metadata": {
    "collapsed": true
   },
   "outputs": [],
   "source": [
    "output = test[['item_id']].copy()\n",
    "output['category_id'] = predicted_hs.argmax(axis=1)\n",
    "\n",
    "output.to_csv('test_scoring.csv', index=False, encoding='utf-8')"
   ]
  }
 ],
 "metadata": {
  "anaconda-cloud": {},
  "kernelspec": {
   "display_name": "Python 3",
   "language": "python",
   "name": "python3"
  },
  "language_info": {
   "codemirror_mode": {
    "name": "ipython",
    "version": 3
   },
   "file_extension": ".py",
   "mimetype": "text/x-python",
   "name": "python",
   "nbconvert_exporter": "python",
   "pygments_lexer": "ipython3",
   "version": "3.5.2"
  }
 },
 "nbformat": 4,
 "nbformat_minor": 1
}
